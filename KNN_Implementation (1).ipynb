{
 "cells": [
  {
   "cell_type": "markdown",
   "id": "9b35bc1f",
   "metadata": {},
   "source": [
    "# Name : Priyanka G\n",
    "\n",
    "Roll No : D21027"
   ]
  },
  {
   "cell_type": "markdown",
   "id": "2801e0e2",
   "metadata": {},
   "source": [
    "# Name : Vaishnavi Dasari\n",
    "\n",
    "Roll No : D21037"
   ]
  },
  {
   "cell_type": "markdown",
   "id": "93fd2d1c",
   "metadata": {},
   "source": [
    "**PROCEDURE**<br>\n",
    "Read cars using Pandas<br>\n",
    "Shuffling the data so that each data is independent of neighbouring values(biasing is avoided)<br>\n",
    "Divide 350 data values to train and remaining to test<br>\n",
    "Our target variable is MPG value from train (y_train)<br>\n",
    "MPG value from test ,which we can verify the model (y_test)<br>\n",
    "Values of Weight,Horsepower,Displacement from train using them we will predict(X_train)<br>\n",
    "Values of Weight,Horsepower,Displacement from test using them we will predict MPG(X_train)<br>\n",
    "Standardization(mean of zero and unit variance)is done for X_train and X_test to bring them to a common scale to compare them(std_X_train,std_X_test)<br>\n",
    "Taking the first row of test of x as X_star<br>"
   ]
  },
  {
   "cell_type": "code",
   "execution_count": 3,
   "id": "e594250e",
   "metadata": {},
   "outputs": [],
   "source": [
    "import pandas as pd\n",
    "import numpy as np\n",
    "import os"
   ]
  },
  {
   "cell_type": "code",
   "execution_count": 4,
   "id": "22917be2",
   "metadata": {},
   "outputs": [],
   "source": [
    "os.chdir('C:/Users/Priyanka G/Downloads')\n",
    "car = pd.read_csv(\"cars.csv\") #reading the file"
   ]
  },
  {
   "cell_type": "code",
   "execution_count": 5,
   "id": "98ed48e6",
   "metadata": {},
   "outputs": [
    {
     "data": {
      "text/plain": [
       "(406, 9)"
      ]
     },
     "execution_count": 5,
     "metadata": {},
     "output_type": "execute_result"
    }
   ],
   "source": [
    "car.shape"
   ]
  },
  {
   "cell_type": "code",
   "execution_count": 6,
   "id": "d1d1e247",
   "metadata": {},
   "outputs": [
    {
     "data": {
      "text/plain": [
       "(406, 9)"
      ]
     },
     "execution_count": 6,
     "metadata": {},
     "output_type": "execute_result"
    }
   ],
   "source": [
    "#shuffling the data so that each data is independent of neighbouring values\n",
    "data = car.sample(len(car))\n",
    "data.head()\n",
    "data.shape"
   ]
  },
  {
   "cell_type": "code",
   "execution_count": 7,
   "id": "66624412",
   "metadata": {},
   "outputs": [],
   "source": [
    "#cut the data into 350records for train data\n",
    "train = data.iloc[0:350, ]"
   ]
  },
  {
   "cell_type": "code",
   "execution_count": 8,
   "id": "db7f5661",
   "metadata": {},
   "outputs": [
    {
     "data": {
      "text/plain": [
       "56"
      ]
     },
     "execution_count": 8,
     "metadata": {},
     "output_type": "execute_result"
    }
   ],
   "source": [
    "#cut the data into remaining records i.e 56 for test data\n",
    "test = data.iloc[350:,]\n",
    "len(test)"
   ]
  },
  {
   "cell_type": "code",
   "execution_count": 9,
   "id": "f44e2173",
   "metadata": {},
   "outputs": [],
   "source": [
    "#\n",
    "X_train = train[[\"Weight\",\"Horsepower\",\"Displacement\"]]\n",
    "X_test = test[[\"Weight\",\"Horsepower\",\"Displacement\"]]"
   ]
  },
  {
   "cell_type": "code",
   "execution_count": 10,
   "id": "bf237318",
   "metadata": {},
   "outputs": [
    {
     "data": {
      "text/plain": [
       "350"
      ]
     },
     "execution_count": 10,
     "metadata": {},
     "output_type": "execute_result"
    }
   ],
   "source": [
    "#standardization of the dataset\n",
    "std_X_train = ((X_train - np.mean(X_train))/np.std(X_train))\n",
    "std_X_train\n",
    "len(std_X_train)"
   ]
  },
  {
   "cell_type": "code",
   "execution_count": 11,
   "id": "ffd9aea4",
   "metadata": {},
   "outputs": [
    {
     "data": {
      "text/plain": [
       "56"
      ]
     },
     "execution_count": 11,
     "metadata": {},
     "output_type": "execute_result"
    }
   ],
   "source": [
    "#standardization of the dataset\n",
    "std_X_test = ((X_test - np.mean(X_test))/np.std(X_test))\n",
    "len(std_X_test)"
   ]
  },
  {
   "cell_type": "code",
   "execution_count": 12,
   "id": "7b07774d",
   "metadata": {},
   "outputs": [
    {
     "data": {
      "text/plain": [
       "350"
      ]
     },
     "execution_count": 12,
     "metadata": {},
     "output_type": "execute_result"
    }
   ],
   "source": [
    "Y_train = train[\"MPG\"]\n",
    "Y_test = test[\"MPG\"]\n",
    "\n",
    "len(Y_train )"
   ]
  },
  {
   "cell_type": "code",
   "execution_count": 13,
   "id": "01a0e268",
   "metadata": {},
   "outputs": [
    {
     "data": {
      "text/plain": [
       "Weight          2.483850\n",
       "Horsepower      1.667348\n",
       "Displacement    1.976787\n",
       "Name: 51, dtype: float64"
      ]
     },
     "execution_count": 13,
     "metadata": {},
     "output_type": "execute_result"
    }
   ],
   "source": [
    "x_star = std_X_test.iloc[0]  #assgining the first row of test data to x_star\n",
    "x_star"
   ]
  },
  {
   "cell_type": "code",
   "execution_count": 16,
   "id": "37ed6ce6",
   "metadata": {},
   "outputs": [
    {
     "data": {
      "text/plain": [
       "12.0"
      ]
     },
     "execution_count": 16,
     "metadata": {},
     "output_type": "execute_result"
    }
   ],
   "source": [
    "x_star = std_X_test.iloc[0]\n",
    "KNN_1(x_star,std_X_train,Y_train)"
   ]
  },
  {
   "cell_type": "code",
   "execution_count": 18,
   "id": "1958a50c",
   "metadata": {},
   "outputs": [
    {
     "data": {
      "text/plain": [
       "{'Predicted': array([12. ,  0. , 18.1, 26. , 25.4, 36. , 32.4, 20.3, 22.5, 22. , 23.6,\n",
       "        38. , 22.5, 16.5, 39.1, 41.5, 24. , 32. , 23. , 34. , 24. , 25.4,\n",
       "        13. , 16. , 18. , 13. , 16. , 23. , 32. , 28. , 31. , 41.5, 13. ,\n",
       "        23. , 11. , 19.8, 21. , 36. , 30.7, 26. , 11. , 19. , 14. , 29. ,\n",
       "        31.3, 36. , 32. , 30. , 22.5, 22. , 37. , 20. , 14. , 23.2, 11. ,\n",
       "        25.5]),\n",
       " 'MAD': 3.964285714285714}"
      ]
     },
     "execution_count": 18,
     "metadata": {},
     "output_type": "execute_result"
    }
   ],
   "source": [
    "KNN_1_All(std_X_test,std_X_test,Y_train,Y_test)"
   ]
  },
  {
   "cell_type": "code",
   "execution_count": null,
   "id": "6d499a7f",
   "metadata": {},
   "outputs": [],
   "source": []
  }
 ],
 "metadata": {
  "kernelspec": {
   "display_name": "Python 3",
   "language": "python",
   "name": "python3"
  },
  "language_info": {
   "codemirror_mode": {
    "name": "ipython",
    "version": 3
   },
   "file_extension": ".py",
   "mimetype": "text/x-python",
   "name": "python",
   "nbconvert_exporter": "python",
   "pygments_lexer": "ipython3",
   "version": "3.8.8"
  }
 },
 "nbformat": 4,
 "nbformat_minor": 5
}
